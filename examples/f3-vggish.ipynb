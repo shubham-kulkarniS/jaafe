{
 "cells": [
  {
   "cell_type": "code",
   "execution_count": 1,
   "metadata": {
    "execution": {
     "iopub.execute_input": "2021-11-09T11:57:06.892126Z",
     "iopub.status.busy": "2021-11-09T11:57:06.891782Z",
     "iopub.status.idle": "2021-11-09T11:57:08.850169Z",
     "shell.execute_reply": "2021-11-09T11:57:08.849293Z",
     "shell.execute_reply.started": "2021-11-09T11:57:06.892044Z"
    },
    "papermill": {
     "duration": 2.196644,
     "end_time": "2021-05-10T09:33:28.351249",
     "exception": false,
     "start_time": "2021-05-10T09:33:26.154605",
     "status": "completed"
    },
    "tags": []
   },
   "outputs": [],
   "source": [
    "from types import SimpleNamespace\n",
    "from functools import lru_cache\n",
    "import os\n",
    "import time\n",
    "from sklearn.model_selection import train_test_split\n",
    "import pandas as pd\n",
    "import numpy as np\n",
    "import scipy.io.wavfile\n",
    "import scipy.fftpack\n",
    "import scipy.linalg\n",
    "import torch\n",
    "import torch.utils.data as data\n",
    "import torch.nn as nn\n",
    "import torch.optim as optim\n",
    "import math"
   ]
  },
  {
   "cell_type": "code",
   "execution_count": 8,
   "metadata": {
    "execution": {
     "iopub.execute_input": "2021-11-09T11:57:08.852171Z",
     "iopub.status.busy": "2021-11-09T11:57:08.85177Z",
     "iopub.status.idle": "2021-11-09T11:57:08.860423Z",
     "shell.execute_reply": "2021-11-09T11:57:08.85837Z",
     "shell.execute_reply.started": "2021-11-09T11:57:08.852136Z"
    }
   },
   "outputs": [],
   "source": [
    "\n",
    "import sys\n",
    "sys.path.append(\"../yaafelib/embed/\")\n",
    "\n",
    "from models import ModPASE #, vggish\n",
    "from loader import Loader, useful_df,vggish,make_dataset\n",
    "from trainer import Trainer"
   ]
  },
  {
   "cell_type": "markdown",
   "metadata": {},
   "source": [
    "## Baseline model \n",
    "\n",
    "using a pre-trained VGGish model"
   ]
  },
  {
   "cell_type": "code",
   "execution_count": 5,
   "metadata": {},
   "outputs": [],
   "source": [
    "vggish = nn.DataParallel(vggish,device_ids=[0,1,2,3])"
   ]
  },
  {
   "cell_type": "code",
   "execution_count": 6,
   "metadata": {},
   "outputs": [],
   "source": [
    "traindf,testdf = train_test_split(useful_df,shuffle=True,\n",
    "                                random_state=41,\n",
    "                                stratify=useful_df.status)\n",
    "valdf,tessdf = train_test_split(testdf,test_size=0.5,shuffle=True)\n",
    "\n",
    "datalists = dict(\n",
    "    train = traindf,\n",
    "    test = tessdf,\n",
    "    val = valdf\n",
    ")"
   ]
  },
  {
   "cell_type": "code",
   "execution_count": 7,
   "metadata": {},
   "outputs": [],
   "source": [
    "args = SimpleNamespace(\n",
    "    # general options\n",
    "    train_path = '../input/covid/train',         # train data folder\n",
    "    valid_path = '../input/covid/valid',         # valid data folder\n",
    "    test_path = '../input/covid/test',           # test data folder\n",
    "    batch_size = 20,                             # training and valid batch size\n",
    "    test_batch_size = 20,                        # batch size for testing\n",
    "    arch = 'VGGISH',                             # PASE, VGG11, VGG13, VGG16, VGG19\n",
    "    epochs = 50,                                 # maximum number of epochs to train\n",
    "    lr = 0.0002,                                 # learning rate\n",
    "    momentum = 0.9,                              # SGD momentum, for SGD only\n",
    "    optimizer = 'adam',                          # optimization method: sgd | adam\n",
    "    seed = 1234,                                 # random seed\n",
    "    log_interval = 5,                            # how many batches to wait before logging training status\n",
    "    patience = 10,                               # how many epochs of no loss improvement should we wait before stop training\n",
    "    checkpoint = '.',                            # checkpoints directory\n",
    "    train = True,                                # train before testing\n",
    "    cuda = True,                                 # use gpu\n",
    "    num_workers = 0,                             # how many subprocesses to use for data loading\n",
    ")"
   ]
  },
  {
   "cell_type": "code",
   "execution_count": 9,
   "metadata": {},
   "outputs": [
    {
     "name": "stderr",
     "output_type": "stream",
     "text": [
      "100%|██████████| 8858/8858 [51:05<00:00,  2.89it/s] \n"
     ]
    },
    {
     "ename": "AttributeError",
     "evalue": "'tuple' object has no attribute 'size'",
     "output_type": "error",
     "traceback": [
      "\u001b[0;31m---------------------------------------------------------------------------\u001b[0m",
      "\u001b[0;31mAttributeError\u001b[0m                            Traceback (most recent call last)",
      "\u001b[1;32m/home/shubham/strial-osaki/dnnd-hs-audio-features/examples/f3-vggish.ipynb Cell 7'\u001b[0m in \u001b[0;36m<module>\u001b[0;34m\u001b[0m\n\u001b[1;32m      <a href='vscode-notebook-cell://ssh-remote%2B43.4.5.178/home/shubham/strial-osaki/dnnd-hs-audio-features/examples/f3-vggish.ipynb#ch0000020vscode-remote?line=0'>1</a>\u001b[0m dataloaders  \u001b[39m=\u001b[39m {}\n\u001b[1;32m      <a href='vscode-notebook-cell://ssh-remote%2B43.4.5.178/home/shubham/strial-osaki/dnnd-hs-audio-features/examples/f3-vggish.ipynb#ch0000020vscode-remote?line=1'>2</a>\u001b[0m \u001b[39mfor\u001b[39;00m i,v \u001b[39min\u001b[39;00m datalists\u001b[39m.\u001b[39mitems():\n\u001b[1;32m      <a href='vscode-notebook-cell://ssh-remote%2B43.4.5.178/home/shubham/strial-osaki/dnnd-hs-audio-features/examples/f3-vggish.ipynb#ch0000020vscode-remote?line=2'>3</a>\u001b[0m     \u001b[39m# loading data\u001b[39;00m\n\u001b[0;32m----> <a href='vscode-notebook-cell://ssh-remote%2B43.4.5.178/home/shubham/strial-osaki/dnnd-hs-audio-features/examples/f3-vggish.ipynb#ch0000020vscode-remote?line=3'>4</a>\u001b[0m     dataset \u001b[39m=\u001b[39m torch\u001b[39m.\u001b[39;49mutils\u001b[39m.\u001b[39;49mdata\u001b[39m.\u001b[39;49mTensorDataset(make_dataset(v))\n\u001b[1;32m      <a href='vscode-notebook-cell://ssh-remote%2B43.4.5.178/home/shubham/strial-osaki/dnnd-hs-audio-features/examples/f3-vggish.ipynb#ch0000020vscode-remote?line=4'>5</a>\u001b[0m     dataloaders[i] \u001b[39m=\u001b[39m  torch\u001b[39m.\u001b[39mutils\u001b[39m.\u001b[39mdata\u001b[39m.\u001b[39mDataLoader(\n\u001b[1;32m      <a href='vscode-notebook-cell://ssh-remote%2B43.4.5.178/home/shubham/strial-osaki/dnnd-hs-audio-features/examples/f3-vggish.ipynb#ch0000020vscode-remote?line=5'>6</a>\u001b[0m         dataset, batch_size\u001b[39m=\u001b[39margs\u001b[39m.\u001b[39mbatch_size, shuffle\u001b[39m=\u001b[39m\u001b[39mTrue\u001b[39;00m,\n\u001b[1;32m      <a href='vscode-notebook-cell://ssh-remote%2B43.4.5.178/home/shubham/strial-osaki/dnnd-hs-audio-features/examples/f3-vggish.ipynb#ch0000020vscode-remote?line=6'>7</a>\u001b[0m         num_workers\u001b[39m=\u001b[39margs\u001b[39m.\u001b[39mnum_workers, pin_memory\u001b[39m=\u001b[39margs\u001b[39m.\u001b[39mcuda, sampler\u001b[39m=\u001b[39m\u001b[39mNone\u001b[39;00m)\n",
      "File \u001b[0;32m~/anaconda3/envs/torch/lib/python3.9/site-packages/torch/utils/data/dataset.py:167\u001b[0m, in \u001b[0;36mTensorDataset.__init__\u001b[0;34m(self, *tensors)\u001b[0m\n\u001b[1;32m    <a href='file:///~/anaconda3/envs/torch/lib/python3.9/site-packages/torch/utils/data/dataset.py?line=165'>166</a>\u001b[0m \u001b[39mdef\u001b[39;00m \u001b[39m__init__\u001b[39m(\u001b[39mself\u001b[39m, \u001b[39m*\u001b[39mtensors: Tensor) \u001b[39m-\u001b[39m\u001b[39m>\u001b[39m \u001b[39mNone\u001b[39;00m:\n\u001b[0;32m--> <a href='file:///~/anaconda3/envs/torch/lib/python3.9/site-packages/torch/utils/data/dataset.py?line=166'>167</a>\u001b[0m     \u001b[39massert\u001b[39;00m \u001b[39mall\u001b[39;49m(tensors[\u001b[39m0\u001b[39;49m]\u001b[39m.\u001b[39;49msize(\u001b[39m0\u001b[39;49m) \u001b[39m==\u001b[39;49m tensor\u001b[39m.\u001b[39;49msize(\u001b[39m0\u001b[39;49m) \u001b[39mfor\u001b[39;49;00m tensor \u001b[39min\u001b[39;49;00m tensors), \u001b[39m\"\u001b[39m\u001b[39mSize mismatch between tensors\u001b[39m\u001b[39m\"\u001b[39m\n\u001b[1;32m    <a href='file:///~/anaconda3/envs/torch/lib/python3.9/site-packages/torch/utils/data/dataset.py?line=167'>168</a>\u001b[0m     \u001b[39mself\u001b[39m\u001b[39m.\u001b[39mtensors \u001b[39m=\u001b[39m tensors\n",
      "File \u001b[0;32m~/anaconda3/envs/torch/lib/python3.9/site-packages/torch/utils/data/dataset.py:167\u001b[0m, in \u001b[0;36m<genexpr>\u001b[0;34m(.0)\u001b[0m\n\u001b[1;32m    <a href='file:///~/anaconda3/envs/torch/lib/python3.9/site-packages/torch/utils/data/dataset.py?line=165'>166</a>\u001b[0m \u001b[39mdef\u001b[39;00m \u001b[39m__init__\u001b[39m(\u001b[39mself\u001b[39m, \u001b[39m*\u001b[39mtensors: Tensor) \u001b[39m-\u001b[39m\u001b[39m>\u001b[39m \u001b[39mNone\u001b[39;00m:\n\u001b[0;32m--> <a href='file:///~/anaconda3/envs/torch/lib/python3.9/site-packages/torch/utils/data/dataset.py?line=166'>167</a>\u001b[0m     \u001b[39massert\u001b[39;00m \u001b[39mall\u001b[39m(tensors[\u001b[39m0\u001b[39;49m]\u001b[39m.\u001b[39;49msize(\u001b[39m0\u001b[39m) \u001b[39m==\u001b[39m tensor\u001b[39m.\u001b[39msize(\u001b[39m0\u001b[39m) \u001b[39mfor\u001b[39;00m tensor \u001b[39min\u001b[39;00m tensors), \u001b[39m\"\u001b[39m\u001b[39mSize mismatch between tensors\u001b[39m\u001b[39m\"\u001b[39m\n\u001b[1;32m    <a href='file:///~/anaconda3/envs/torch/lib/python3.9/site-packages/torch/utils/data/dataset.py?line=167'>168</a>\u001b[0m     \u001b[39mself\u001b[39m\u001b[39m.\u001b[39mtensors \u001b[39m=\u001b[39m tensors\n",
      "\u001b[0;31mAttributeError\u001b[0m: 'tuple' object has no attribute 'size'"
     ]
    }
   ],
   "source": [
    "dataloaders  = {}\n",
    "for i,v in datalists.items():\n",
    "    # loading data\n",
    "    dataset = torch.utils.data.TensorDataset(make_dataset(v))\n",
    "    dataloaders[i] =  torch.utils.data.DataLoader(\n",
    "        dataset, batch_size=args.batch_size, shuffle=True,\n",
    "        num_workers=args.num_workers, pin_memory=args.cuda, sampler=None)"
   ]
  },
  {
   "cell_type": "code",
   "execution_count": 10,
   "metadata": {},
   "outputs": [
    {
     "name": "stderr",
     "output_type": "stream",
     "text": [
      " 39%|███▊      | 4569/11811 [25:56<41:58,  2.88it/s]  "
     ]
    }
   ],
   "source": [
    "x,y = make_dataset(useful_df)"
   ]
  },
  {
   "cell_type": "code",
   "execution_count": null,
   "metadata": {},
   "outputs": [],
   "source": [
    "ddf = pd.DataFrame(x)\n",
    "ddf['y'] = y\n",
    "ddf['uuid'] = useful_df.uuid\n",
    "ddf.index = useful_df.index"
   ]
  },
  {
   "cell_type": "code",
   "execution_count": null,
   "metadata": {},
   "outputs": [],
   "source": [
    "COUGHVID = \"/home/shubham/datasets/coughvid/public_dataset\"\n",
    "\n",
    "ddf.to_csv(COUGHVID+\"/use_features_vggish.csv\")"
   ]
  },
  {
   "cell_type": "code",
   "execution_count": 27,
   "metadata": {},
   "outputs": [],
   "source": [
    "xv =x#.unsqueeze(1)"
   ]
  },
  {
   "cell_type": "code",
   "execution_count": 31,
   "metadata": {},
   "outputs": [
    {
     "data": {
      "text/plain": [
       "torch.Size([128])"
      ]
     },
     "execution_count": 31,
     "metadata": {},
     "output_type": "execute_result"
    }
   ],
   "source": [
    "y.shape"
   ]
  },
  {
   "cell_type": "code",
   "execution_count": 32,
   "metadata": {
    "execution": {
     "iopub.execute_input": "2021-11-09T11:57:21.737458Z",
     "iopub.status.busy": "2021-11-09T11:57:21.736846Z",
     "iopub.status.idle": "2021-11-09T11:57:21.747499Z",
     "shell.execute_reply": "2021-11-09T11:57:21.746592Z",
     "shell.execute_reply.started": "2021-11-09T11:57:21.737413Z"
    },
    "papermill": {
     "duration": 0.043731,
     "end_time": "2021-05-10T09:33:48.606047",
     "exception": false,
     "start_time": "2021-05-10T09:33:48.562316",
     "status": "completed"
    },
    "tags": []
   },
   "outputs": [
    {
     "ename": "ValueError",
     "evalue": "negative dimensions are not allowed",
     "output_type": "error",
     "traceback": [
      "\u001b[0;31m---------------------------------------------------------------------------\u001b[0m",
      "\u001b[0;31mValueError\u001b[0m                                Traceback (most recent call last)",
      "Input \u001b[0;32mIn [32]\u001b[0m, in \u001b[0;36m<module>\u001b[0;34m\u001b[0m\n\u001b[1;32m      1\u001b[0m xs \u001b[39m=\u001b[39m xv\u001b[39m.\u001b[39mnumpy()\u001b[39m.\u001b[39mastype(np\u001b[39m.\u001b[39mfloat32)[:\u001b[39m12\u001b[39m]\n\u001b[0;32m----> 3\u001b[0m y \u001b[39m=\u001b[39m vggish(xs,\u001b[39m16000\u001b[39;49m)\n",
      "File \u001b[0;32m~/anaconda3/envs/torch/lib/python3.9/site-packages/torch/nn/modules/module.py:889\u001b[0m, in \u001b[0;36mModule._call_impl\u001b[0;34m(self, *input, **kwargs)\u001b[0m\n\u001b[1;32m    <a href='file:///~/anaconda3/envs/torch/lib/python3.9/site-packages/torch/nn/modules/module.py?line=886'>887</a>\u001b[0m     result \u001b[39m=\u001b[39m \u001b[39mself\u001b[39m\u001b[39m.\u001b[39m_slow_forward(\u001b[39m*\u001b[39m\u001b[39minput\u001b[39m, \u001b[39m*\u001b[39m\u001b[39m*\u001b[39mkwargs)\n\u001b[1;32m    <a href='file:///~/anaconda3/envs/torch/lib/python3.9/site-packages/torch/nn/modules/module.py?line=887'>888</a>\u001b[0m \u001b[39melse\u001b[39;00m:\n\u001b[0;32m--> <a href='file:///~/anaconda3/envs/torch/lib/python3.9/site-packages/torch/nn/modules/module.py?line=888'>889</a>\u001b[0m     result \u001b[39m=\u001b[39m \u001b[39mself\u001b[39;49m\u001b[39m.\u001b[39;49mforward(\u001b[39m*\u001b[39;49m\u001b[39minput\u001b[39;49m, \u001b[39m*\u001b[39;49m\u001b[39m*\u001b[39;49mkwargs)\n\u001b[1;32m    <a href='file:///~/anaconda3/envs/torch/lib/python3.9/site-packages/torch/nn/modules/module.py?line=889'>890</a>\u001b[0m \u001b[39mfor\u001b[39;00m hook \u001b[39min\u001b[39;00m itertools\u001b[39m.\u001b[39mchain(\n\u001b[1;32m    <a href='file:///~/anaconda3/envs/torch/lib/python3.9/site-packages/torch/nn/modules/module.py?line=890'>891</a>\u001b[0m         _global_forward_hooks\u001b[39m.\u001b[39mvalues(),\n\u001b[1;32m    <a href='file:///~/anaconda3/envs/torch/lib/python3.9/site-packages/torch/nn/modules/module.py?line=891'>892</a>\u001b[0m         \u001b[39mself\u001b[39m\u001b[39m.\u001b[39m_forward_hooks\u001b[39m.\u001b[39mvalues()):\n\u001b[1;32m    <a href='file:///~/anaconda3/envs/torch/lib/python3.9/site-packages/torch/nn/modules/module.py?line=892'>893</a>\u001b[0m     hook_result \u001b[39m=\u001b[39m hook(\u001b[39mself\u001b[39m, \u001b[39minput\u001b[39m, result)\n",
      "File \u001b[0;32m~/.cache/torch/hub/harritaylor_torchvggish_master/torchvggish/vggish.py:172\u001b[0m, in \u001b[0;36mVGGish.forward\u001b[0;34m(self, x, fs)\u001b[0m\n\u001b[1;32m    <a href='file:///~/.cache/torch/hub/harritaylor_torchvggish_master/torchvggish/vggish.py?line=169'>170</a>\u001b[0m \u001b[39mdef\u001b[39;00m \u001b[39mforward\u001b[39m(\u001b[39mself\u001b[39m, x, fs\u001b[39m=\u001b[39m\u001b[39mNone\u001b[39;00m):\n\u001b[1;32m    <a href='file:///~/.cache/torch/hub/harritaylor_torchvggish_master/torchvggish/vggish.py?line=170'>171</a>\u001b[0m     \u001b[39mif\u001b[39;00m \u001b[39mself\u001b[39m\u001b[39m.\u001b[39mpreprocess:\n\u001b[0;32m--> <a href='file:///~/.cache/torch/hub/harritaylor_torchvggish_master/torchvggish/vggish.py?line=171'>172</a>\u001b[0m         x \u001b[39m=\u001b[39m \u001b[39mself\u001b[39;49m\u001b[39m.\u001b[39;49m_preprocess(x, fs)\n\u001b[1;32m    <a href='file:///~/.cache/torch/hub/harritaylor_torchvggish_master/torchvggish/vggish.py?line=172'>173</a>\u001b[0m     x \u001b[39m=\u001b[39m x\u001b[39m.\u001b[39mto(\u001b[39mself\u001b[39m\u001b[39m.\u001b[39mdevice)\n\u001b[1;32m    <a href='file:///~/.cache/torch/hub/harritaylor_torchvggish_master/torchvggish/vggish.py?line=173'>174</a>\u001b[0m     x \u001b[39m=\u001b[39m VGG\u001b[39m.\u001b[39mforward(\u001b[39mself\u001b[39m, x)\n",
      "File \u001b[0;32m~/.cache/torch/hub/harritaylor_torchvggish_master/torchvggish/vggish.py:181\u001b[0m, in \u001b[0;36mVGGish._preprocess\u001b[0;34m(self, x, fs)\u001b[0m\n\u001b[1;32m    <a href='file:///~/.cache/torch/hub/harritaylor_torchvggish_master/torchvggish/vggish.py?line=178'>179</a>\u001b[0m \u001b[39mdef\u001b[39;00m \u001b[39m_preprocess\u001b[39m(\u001b[39mself\u001b[39m, x, fs):\n\u001b[1;32m    <a href='file:///~/.cache/torch/hub/harritaylor_torchvggish_master/torchvggish/vggish.py?line=179'>180</a>\u001b[0m     \u001b[39mif\u001b[39;00m \u001b[39misinstance\u001b[39m(x, np\u001b[39m.\u001b[39mndarray):\n\u001b[0;32m--> <a href='file:///~/.cache/torch/hub/harritaylor_torchvggish_master/torchvggish/vggish.py?line=180'>181</a>\u001b[0m         x \u001b[39m=\u001b[39m vggish_input\u001b[39m.\u001b[39;49mwaveform_to_examples(x, fs)\n\u001b[1;32m    <a href='file:///~/.cache/torch/hub/harritaylor_torchvggish_master/torchvggish/vggish.py?line=181'>182</a>\u001b[0m     \u001b[39melif\u001b[39;00m \u001b[39misinstance\u001b[39m(x, \u001b[39mstr\u001b[39m):\n\u001b[1;32m    <a href='file:///~/.cache/torch/hub/harritaylor_torchvggish_master/torchvggish/vggish.py?line=182'>183</a>\u001b[0m         x \u001b[39m=\u001b[39m vggish_input\u001b[39m.\u001b[39mwavfile_to_examples(x)\n",
      "File \u001b[0;32m~/.cache/torch/hub/harritaylor_torchvggish_master/torchvggish/vggish_input.py:56\u001b[0m, in \u001b[0;36mwaveform_to_examples\u001b[0;34m(data, sample_rate, return_tensor)\u001b[0m\n\u001b[1;32m     <a href='file:///~/.cache/torch/hub/harritaylor_torchvggish_master/torchvggish/vggish_input.py?line=52'>53</a>\u001b[0m     data \u001b[39m=\u001b[39m resampy\u001b[39m.\u001b[39mresample(data, sample_rate, vggish_params\u001b[39m.\u001b[39mSAMPLE_RATE)\n\u001b[1;32m     <a href='file:///~/.cache/torch/hub/harritaylor_torchvggish_master/torchvggish/vggish_input.py?line=54'>55</a>\u001b[0m \u001b[39m# Compute log mel spectrogram features.\u001b[39;00m\n\u001b[0;32m---> <a href='file:///~/.cache/torch/hub/harritaylor_torchvggish_master/torchvggish/vggish_input.py?line=55'>56</a>\u001b[0m log_mel \u001b[39m=\u001b[39m mel_features\u001b[39m.\u001b[39;49mlog_mel_spectrogram(\n\u001b[1;32m     <a href='file:///~/.cache/torch/hub/harritaylor_torchvggish_master/torchvggish/vggish_input.py?line=56'>57</a>\u001b[0m     data,\n\u001b[1;32m     <a href='file:///~/.cache/torch/hub/harritaylor_torchvggish_master/torchvggish/vggish_input.py?line=57'>58</a>\u001b[0m     audio_sample_rate\u001b[39m=\u001b[39;49mvggish_params\u001b[39m.\u001b[39;49mSAMPLE_RATE,\n\u001b[1;32m     <a href='file:///~/.cache/torch/hub/harritaylor_torchvggish_master/torchvggish/vggish_input.py?line=58'>59</a>\u001b[0m     log_offset\u001b[39m=\u001b[39;49mvggish_params\u001b[39m.\u001b[39;49mLOG_OFFSET,\n\u001b[1;32m     <a href='file:///~/.cache/torch/hub/harritaylor_torchvggish_master/torchvggish/vggish_input.py?line=59'>60</a>\u001b[0m     window_length_secs\u001b[39m=\u001b[39;49mvggish_params\u001b[39m.\u001b[39;49mSTFT_WINDOW_LENGTH_SECONDS,\n\u001b[1;32m     <a href='file:///~/.cache/torch/hub/harritaylor_torchvggish_master/torchvggish/vggish_input.py?line=60'>61</a>\u001b[0m     hop_length_secs\u001b[39m=\u001b[39;49mvggish_params\u001b[39m.\u001b[39;49mSTFT_HOP_LENGTH_SECONDS,\n\u001b[1;32m     <a href='file:///~/.cache/torch/hub/harritaylor_torchvggish_master/torchvggish/vggish_input.py?line=61'>62</a>\u001b[0m     num_mel_bins\u001b[39m=\u001b[39;49mvggish_params\u001b[39m.\u001b[39;49mNUM_MEL_BINS,\n\u001b[1;32m     <a href='file:///~/.cache/torch/hub/harritaylor_torchvggish_master/torchvggish/vggish_input.py?line=62'>63</a>\u001b[0m     lower_edge_hertz\u001b[39m=\u001b[39;49mvggish_params\u001b[39m.\u001b[39;49mMEL_MIN_HZ,\n\u001b[1;32m     <a href='file:///~/.cache/torch/hub/harritaylor_torchvggish_master/torchvggish/vggish_input.py?line=63'>64</a>\u001b[0m     upper_edge_hertz\u001b[39m=\u001b[39;49mvggish_params\u001b[39m.\u001b[39;49mMEL_MAX_HZ)\n\u001b[1;32m     <a href='file:///~/.cache/torch/hub/harritaylor_torchvggish_master/torchvggish/vggish_input.py?line=65'>66</a>\u001b[0m \u001b[39m# Frame features into examples.\u001b[39;00m\n\u001b[1;32m     <a href='file:///~/.cache/torch/hub/harritaylor_torchvggish_master/torchvggish/vggish_input.py?line=66'>67</a>\u001b[0m features_sample_rate \u001b[39m=\u001b[39m \u001b[39m1.0\u001b[39m \u001b[39m/\u001b[39m vggish_params\u001b[39m.\u001b[39mSTFT_HOP_LENGTH_SECONDS\n",
      "File \u001b[0;32m~/.cache/torch/hub/harritaylor_torchvggish_master/torchvggish/mel_features.py:215\u001b[0m, in \u001b[0;36mlog_mel_spectrogram\u001b[0;34m(data, audio_sample_rate, log_offset, window_length_secs, hop_length_secs, **kwargs)\u001b[0m\n\u001b[1;32m    <a href='file:///~/.cache/torch/hub/harritaylor_torchvggish_master/torchvggish/mel_features.py?line=212'>213</a>\u001b[0m hop_length_samples \u001b[39m=\u001b[39m \u001b[39mint\u001b[39m(\u001b[39mround\u001b[39m(audio_sample_rate \u001b[39m*\u001b[39m hop_length_secs))\n\u001b[1;32m    <a href='file:///~/.cache/torch/hub/harritaylor_torchvggish_master/torchvggish/mel_features.py?line=213'>214</a>\u001b[0m fft_length \u001b[39m=\u001b[39m \u001b[39m2\u001b[39m \u001b[39m*\u001b[39m\u001b[39m*\u001b[39m \u001b[39mint\u001b[39m(np\u001b[39m.\u001b[39mceil(np\u001b[39m.\u001b[39mlog(window_length_samples) \u001b[39m/\u001b[39m np\u001b[39m.\u001b[39mlog(\u001b[39m2.0\u001b[39m)))\n\u001b[0;32m--> <a href='file:///~/.cache/torch/hub/harritaylor_torchvggish_master/torchvggish/mel_features.py?line=214'>215</a>\u001b[0m spectrogram \u001b[39m=\u001b[39m stft_magnitude(\n\u001b[1;32m    <a href='file:///~/.cache/torch/hub/harritaylor_torchvggish_master/torchvggish/mel_features.py?line=215'>216</a>\u001b[0m     data,\n\u001b[1;32m    <a href='file:///~/.cache/torch/hub/harritaylor_torchvggish_master/torchvggish/mel_features.py?line=216'>217</a>\u001b[0m     fft_length\u001b[39m=\u001b[39;49mfft_length,\n\u001b[1;32m    <a href='file:///~/.cache/torch/hub/harritaylor_torchvggish_master/torchvggish/mel_features.py?line=217'>218</a>\u001b[0m     hop_length\u001b[39m=\u001b[39;49mhop_length_samples,\n\u001b[1;32m    <a href='file:///~/.cache/torch/hub/harritaylor_torchvggish_master/torchvggish/mel_features.py?line=218'>219</a>\u001b[0m     window_length\u001b[39m=\u001b[39;49mwindow_length_samples)\n\u001b[1;32m    <a href='file:///~/.cache/torch/hub/harritaylor_torchvggish_master/torchvggish/mel_features.py?line=219'>220</a>\u001b[0m mel_spectrogram \u001b[39m=\u001b[39m np\u001b[39m.\u001b[39mdot(spectrogram, spectrogram_to_mel_matrix(\n\u001b[1;32m    <a href='file:///~/.cache/torch/hub/harritaylor_torchvggish_master/torchvggish/mel_features.py?line=220'>221</a>\u001b[0m     num_spectrogram_bins\u001b[39m=\u001b[39mspectrogram\u001b[39m.\u001b[39mshape[\u001b[39m1\u001b[39m],\n\u001b[1;32m    <a href='file:///~/.cache/torch/hub/harritaylor_torchvggish_master/torchvggish/mel_features.py?line=221'>222</a>\u001b[0m     audio_sample_rate\u001b[39m=\u001b[39maudio_sample_rate, \u001b[39m*\u001b[39m\u001b[39m*\u001b[39mkwargs))\n\u001b[1;32m    <a href='file:///~/.cache/torch/hub/harritaylor_torchvggish_master/torchvggish/mel_features.py?line=222'>223</a>\u001b[0m \u001b[39mreturn\u001b[39;00m np\u001b[39m.\u001b[39mlog(mel_spectrogram \u001b[39m+\u001b[39m log_offset)\n",
      "File \u001b[0;32m~/.cache/torch/hub/harritaylor_torchvggish_master/torchvggish/mel_features.py:86\u001b[0m, in \u001b[0;36mstft_magnitude\u001b[0;34m(signal, fft_length, hop_length, window_length)\u001b[0m\n\u001b[1;32m     <a href='file:///~/.cache/torch/hub/harritaylor_torchvggish_master/torchvggish/mel_features.py?line=70'>71</a>\u001b[0m \u001b[39mdef\u001b[39;00m \u001b[39mstft_magnitude\u001b[39m(signal, fft_length,\n\u001b[1;32m     <a href='file:///~/.cache/torch/hub/harritaylor_torchvggish_master/torchvggish/mel_features.py?line=71'>72</a>\u001b[0m                    hop_length\u001b[39m=\u001b[39m\u001b[39mNone\u001b[39;00m,\n\u001b[1;32m     <a href='file:///~/.cache/torch/hub/harritaylor_torchvggish_master/torchvggish/mel_features.py?line=72'>73</a>\u001b[0m                    window_length\u001b[39m=\u001b[39m\u001b[39mNone\u001b[39;00m):\n\u001b[1;32m     <a href='file:///~/.cache/torch/hub/harritaylor_torchvggish_master/torchvggish/mel_features.py?line=73'>74</a>\u001b[0m   \u001b[39m\"\"\"Calculate the short-time Fourier transform magnitude.\u001b[39;00m\n\u001b[1;32m     <a href='file:///~/.cache/torch/hub/harritaylor_torchvggish_master/torchvggish/mel_features.py?line=74'>75</a>\u001b[0m \n\u001b[1;32m     <a href='file:///~/.cache/torch/hub/harritaylor_torchvggish_master/torchvggish/mel_features.py?line=75'>76</a>\u001b[0m \u001b[39m  Args:\u001b[39;00m\n\u001b[0;32m   (...)\u001b[0m\n\u001b[1;32m     <a href='file:///~/.cache/torch/hub/harritaylor_torchvggish_master/torchvggish/mel_features.py?line=83'>84</a>\u001b[0m \u001b[39m    unique values of the FFT for the corresponding frame of input samples.\u001b[39;00m\n\u001b[1;32m     <a href='file:///~/.cache/torch/hub/harritaylor_torchvggish_master/torchvggish/mel_features.py?line=84'>85</a>\u001b[0m \u001b[39m  \"\"\"\u001b[39;00m\n\u001b[0;32m---> <a href='file:///~/.cache/torch/hub/harritaylor_torchvggish_master/torchvggish/mel_features.py?line=85'>86</a>\u001b[0m   frames \u001b[39m=\u001b[39m frame(signal, window_length, hop_length)\n\u001b[1;32m     <a href='file:///~/.cache/torch/hub/harritaylor_torchvggish_master/torchvggish/mel_features.py?line=86'>87</a>\u001b[0m   \u001b[39m# Apply frame window to each frame. We use a periodic Hann (cosine of period\u001b[39;00m\n\u001b[1;32m     <a href='file:///~/.cache/torch/hub/harritaylor_torchvggish_master/torchvggish/mel_features.py?line=87'>88</a>\u001b[0m   \u001b[39m# window_length) instead of the symmetric Hann of np.hanning (period\u001b[39;00m\n\u001b[1;32m     <a href='file:///~/.cache/torch/hub/harritaylor_torchvggish_master/torchvggish/mel_features.py?line=88'>89</a>\u001b[0m   \u001b[39m# window_length-1).\u001b[39;00m\n\u001b[1;32m     <a href='file:///~/.cache/torch/hub/harritaylor_torchvggish_master/torchvggish/mel_features.py?line=89'>90</a>\u001b[0m   window \u001b[39m=\u001b[39m periodic_hann(window_length)\n",
      "File \u001b[0;32m~/.cache/torch/hub/harritaylor_torchvggish_master/torchvggish/mel_features.py:45\u001b[0m, in \u001b[0;36mframe\u001b[0;34m(data, window_length, hop_length)\u001b[0m\n\u001b[1;32m     <a href='file:///~/.cache/torch/hub/harritaylor_torchvggish_master/torchvggish/mel_features.py?line=42'>43</a>\u001b[0m shape \u001b[39m=\u001b[39m (num_frames, window_length) \u001b[39m+\u001b[39m data\u001b[39m.\u001b[39mshape[\u001b[39m1\u001b[39m:]\n\u001b[1;32m     <a href='file:///~/.cache/torch/hub/harritaylor_torchvggish_master/torchvggish/mel_features.py?line=43'>44</a>\u001b[0m strides \u001b[39m=\u001b[39m (data\u001b[39m.\u001b[39mstrides[\u001b[39m0\u001b[39m] \u001b[39m*\u001b[39m hop_length,) \u001b[39m+\u001b[39m data\u001b[39m.\u001b[39mstrides\n\u001b[0;32m---> <a href='file:///~/.cache/torch/hub/harritaylor_torchvggish_master/torchvggish/mel_features.py?line=44'>45</a>\u001b[0m \u001b[39mreturn\u001b[39;00m np\u001b[39m.\u001b[39;49mlib\u001b[39m.\u001b[39;49mstride_tricks\u001b[39m.\u001b[39;49mas_strided(data, shape\u001b[39m=\u001b[39;49mshape, strides\u001b[39m=\u001b[39;49mstrides)\n",
      "File \u001b[0;32m~/anaconda3/envs/torch/lib/python3.9/site-packages/numpy/lib/stride_tricks.py:104\u001b[0m, in \u001b[0;36mas_strided\u001b[0;34m(x, shape, strides, subok, writeable)\u001b[0m\n\u001b[1;32m    <a href='file:///~/anaconda3/envs/torch/lib/python3.9/site-packages/numpy/lib/stride_tricks.py?line=100'>101</a>\u001b[0m \u001b[39mif\u001b[39;00m strides \u001b[39mis\u001b[39;00m \u001b[39mnot\u001b[39;00m \u001b[39mNone\u001b[39;00m:\n\u001b[1;32m    <a href='file:///~/anaconda3/envs/torch/lib/python3.9/site-packages/numpy/lib/stride_tricks.py?line=101'>102</a>\u001b[0m     interface[\u001b[39m'\u001b[39m\u001b[39mstrides\u001b[39m\u001b[39m'\u001b[39m] \u001b[39m=\u001b[39m \u001b[39mtuple\u001b[39m(strides)\n\u001b[0;32m--> <a href='file:///~/anaconda3/envs/torch/lib/python3.9/site-packages/numpy/lib/stride_tricks.py?line=103'>104</a>\u001b[0m array \u001b[39m=\u001b[39m np\u001b[39m.\u001b[39;49masarray(DummyArray(interface, base\u001b[39m=\u001b[39;49mx))\n\u001b[1;32m    <a href='file:///~/anaconda3/envs/torch/lib/python3.9/site-packages/numpy/lib/stride_tricks.py?line=104'>105</a>\u001b[0m \u001b[39m# The route via `__interface__` does not preserve structured\u001b[39;00m\n\u001b[1;32m    <a href='file:///~/anaconda3/envs/torch/lib/python3.9/site-packages/numpy/lib/stride_tricks.py?line=105'>106</a>\u001b[0m \u001b[39m# dtypes. Since dtype should remain unchanged, we set it explicitly.\u001b[39;00m\n\u001b[1;32m    <a href='file:///~/anaconda3/envs/torch/lib/python3.9/site-packages/numpy/lib/stride_tricks.py?line=106'>107</a>\u001b[0m array\u001b[39m.\u001b[39mdtype \u001b[39m=\u001b[39m x\u001b[39m.\u001b[39mdtype\n",
      "\u001b[0;31mValueError\u001b[0m: negative dimensions are not allowed"
     ]
    }
   ],
   "source": [
    "xs = xv.numpy().astype(np.float32)[:12]\n",
    "\n",
    "y = vggish(xs,16000)"
   ]
  },
  {
   "cell_type": "code",
   "execution_count": null,
   "metadata": {
    "execution": {
     "iopub.execute_input": "2021-11-09T11:57:21.749485Z",
     "iopub.status.busy": "2021-11-09T11:57:21.748859Z",
     "iopub.status.idle": "2021-11-09T11:57:21.763547Z",
     "shell.execute_reply": "2021-11-09T11:57:21.762622Z",
     "shell.execute_reply.started": "2021-11-09T11:57:21.749409Z"
    },
    "papermill": {
     "duration": 7.062397,
     "end_time": "2021-05-10T09:33:55.700344",
     "exception": false,
     "start_time": "2021-05-10T09:33:48.637947",
     "status": "completed"
    },
    "tags": []
   },
   "outputs": [],
   "source": [
    "args.cuda = args.cuda and torch.cuda.is_available()\n",
    "torch.manual_seed(args.seed)\n",
    "if args.cuda:\n",
    "    torch.cuda.manual_seed(args.seed)\n",
    "    print('Using CUDA with {0} GPUs'.format(torch.cuda.device_count()))\n",
    "\n",
    "\n",
    "# build model\n",
    "if args.arch == 'PASE':\n",
    "    model = PASE(256)\n",
    "if args.arch == 'VGGISH':\n",
    "    model = VGGISH(hidden_size=64)\n",
    "if args.cuda:\n",
    "    model.cuda()\n",
    "\n",
    "# Define criterion\n",
    "criterion = nn.BCEWithLogitsLoss(reduction='mean') # This loss combines a Sigmoid layer and the BCELoss in one single class."
   ]
  },
  {
   "cell_type": "markdown",
   "metadata": {
    "papermill": {
     "duration": 0.018517,
     "end_time": "2021-05-10T09:33:55.737693",
     "exception": false,
     "start_time": "2021-05-10T09:33:55.719176",
     "status": "completed"
    },
    "tags": []
   },
   "source": [
    "## Train model (Only new parameters)"
   ]
  },
  {
   "cell_type": "code",
   "execution_count": null,
   "metadata": {
    "execution": {
     "iopub.execute_input": "2021-11-09T11:58:34.18854Z",
     "iopub.status.busy": "2021-11-09T11:58:34.188194Z",
     "iopub.status.idle": "2021-11-09T11:58:34.886221Z",
     "shell.execute_reply": "2021-11-09T11:58:34.885303Z",
     "shell.execute_reply.started": "2021-11-09T11:58:34.188508Z"
    }
   },
   "outputs": [],
   "source": [
    "ls ../input"
   ]
  },
  {
   "cell_type": "markdown",
   "metadata": {
    "papermill": {
     "duration": 0.238677,
     "end_time": "2021-05-10T09:49:47.513041",
     "exception": false,
     "start_time": "2021-05-10T09:49:47.274364",
     "status": "completed"
    },
    "tags": []
   },
   "source": [
    "## Test Model"
   ]
  },
  {
   "cell_type": "code",
   "execution_count": null,
   "metadata": {
    "execution": {
     "iopub.status.busy": "2021-11-09T11:57:21.934338Z",
     "iopub.status.idle": "2021-11-09T11:57:21.935085Z"
    },
    "papermill": {
     "duration": 8.730673,
     "end_time": "2021-05-10T09:49:56.469183",
     "exception": false,
     "start_time": "2021-05-10T09:49:47.73851",
     "status": "completed"
    },
    "tags": []
   },
   "outputs": [],
   "source": [
    "test_dataset = Loader(args.test_path)\n",
    "test_loader = torch.utils.data.DataLoader(\n",
    "    test_dataset, batch_size=args.test_batch_size, shuffle=False, num_workers=args.num_workers)\n",
    "\n",
    "# get best epoch and model\n",
    "state = torch.load('./{}/ckpt.pt'.format(args.checkpoint))\n",
    "epoch = state['epoch']\n",
    "print(\"Testing model (epoch {})\".format(epoch))\n",
    "model.load_state_dict(torch.load('./{}/model{:03d}.pt'.format(args.checkpoint, epoch)))\n",
    "if args.cuda:\n",
    "    model.cuda()\n",
    "\n",
    "results = 'submission.csv'\n",
    "print(\"Saving results in {}\".format(results))\n",
    "test(test_loader, model, criterion, args.cuda, save=results)"
   ]
  }
 ],
 "metadata": {
  "kernelspec": {
   "display_name": "Python 3",
   "language": "python",
   "name": "python3"
  },
  "language_info": {
   "codemirror_mode": {
    "name": "ipython",
    "version": 3
   },
   "file_extension": ".py",
   "mimetype": "text/x-python",
   "name": "python",
   "nbconvert_exporter": "python",
   "pygments_lexer": "ipython3",
   "version": "3.9.10"
  }
 },
 "nbformat": 4,
 "nbformat_minor": 4
}
